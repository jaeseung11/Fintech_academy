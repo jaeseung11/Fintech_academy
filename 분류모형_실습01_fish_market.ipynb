{
  "nbformat": 4,
  "nbformat_minor": 0,
  "metadata": {
    "colab": {
      "provenance": []
    },
    "kernelspec": {
      "name": "python3",
      "display_name": "Python 3"
    },
    "language_info": {
      "name": "python"
    }
  },
  "cells": [
    {
      "cell_type": "code",
      "metadata": {
        "id": "jgyxCrOaJZQH"
      },
      "source": [
        "data = [10,11,12]"
      ],
      "execution_count": 4,
      "outputs": []
    },
    {
      "cell_type": "code",
      "metadata": {
        "colab": {
          "base_uri": "https://localhost:8080/"
        },
        "id": "eryqHuQKJjCp",
        "outputId": "98017972-82bf-4624-f275-f4896ebaf9ec"
      },
      "source": [
        "data"
      ],
      "execution_count": 5,
      "outputs": [
        {
          "output_type": "execute_result",
          "data": {
            "text/plain": [
              "[10, 11, 12]"
            ]
          },
          "metadata": {},
          "execution_count": 5
        }
      ]
    },
    {
      "cell_type": "code",
      "source": [
        "print(data)"
      ],
      "metadata": {
        "colab": {
          "base_uri": "https://localhost:8080/"
        },
        "id": "Kq0Fea5zdSU1",
        "outputId": "636c4c76-ccff-4724-e929-17c997d52b9a"
      },
      "execution_count": 6,
      "outputs": [
        {
          "output_type": "stream",
          "name": "stdout",
          "text": [
            "[10, 11, 12]\n"
          ]
        }
      ]
    },
    {
      "cell_type": "markdown",
      "source": [
        "# 도미와 빙어 분류"
      ],
      "metadata": {
        "id": "nR7hLYlTSWcr"
      }
    },
    {
      "cell_type": "code",
      "metadata": {
        "id": "T72vNNnZJocX"
      },
      "source": [
        "# 도미\n",
        "bream_length = [23.2, 24, 23.9, 26.3, 26.5, 26.8, 26.8, 27.6, 27.6, 28.5, 28.4, 28.7, 29.1, 29.5, 29.4, 29.4, 30.4, 30.4, 30.9, 31, 31.3, 31.4, 31.5, 31.8, 31.9, 31.8, 32, 32.7, 32.8, 33.5, 35, 35, 36.2, 37.4, 38]"
      ],
      "execution_count": 7,
      "outputs": []
    },
    {
      "cell_type": "code",
      "metadata": {
        "colab": {
          "base_uri": "https://localhost:8080/"
        },
        "id": "OrQyDtUZJ7vw",
        "outputId": "f1b8ae2c-f726-411d-dc34-5df96e6c423d"
      },
      "source": [
        "bream_length    "
      ],
      "execution_count": 8,
      "outputs": [
        {
          "output_type": "execute_result",
          "data": {
            "text/plain": [
              "[23.2,\n",
              " 24,\n",
              " 23.9,\n",
              " 26.3,\n",
              " 26.5,\n",
              " 26.8,\n",
              " 26.8,\n",
              " 27.6,\n",
              " 27.6,\n",
              " 28.5,\n",
              " 28.4,\n",
              " 28.7,\n",
              " 29.1,\n",
              " 29.5,\n",
              " 29.4,\n",
              " 29.4,\n",
              " 30.4,\n",
              " 30.4,\n",
              " 30.9,\n",
              " 31,\n",
              " 31.3,\n",
              " 31.4,\n",
              " 31.5,\n",
              " 31.8,\n",
              " 31.9,\n",
              " 31.8,\n",
              " 32,\n",
              " 32.7,\n",
              " 32.8,\n",
              " 33.5,\n",
              " 35,\n",
              " 35,\n",
              " 36.2,\n",
              " 37.4,\n",
              " 38]"
            ]
          },
          "metadata": {},
          "execution_count": 8
        }
      ]
    },
    {
      "cell_type": "code",
      "source": [],
      "metadata": {
        "id": "8qDSlwcaeCQa"
      },
      "execution_count": 8,
      "outputs": []
    },
    {
      "cell_type": "code",
      "metadata": {
        "id": "lmnlCUa_J94W",
        "colab": {
          "base_uri": "https://localhost:8080/"
        },
        "outputId": "c81c0438-18d5-401b-f42d-d0abb9a37b1b"
      },
      "source": [
        "# 도미 길이에 대한 갯수\n",
        "len(bream_length)"
      ],
      "execution_count": 9,
      "outputs": [
        {
          "output_type": "execute_result",
          "data": {
            "text/plain": [
              "35"
            ]
          },
          "metadata": {},
          "execution_count": 9
        }
      ]
    },
    {
      "cell_type": "code",
      "metadata": {
        "id": "GUnU0Z4sKKO8"
      },
      "source": [
        "# 도미 무게에 대한 갯수\n",
        "bream_weight = [242, 290, 340, 363, 430, 450, 500, 390, 450, 500, 475, 500, 500, 340, 600, 600, 700, 700, 610, 650, 575, 685, 620, 680, 700, 725, 720, 714, 850, 1000, 920, 955, 925, 975, 950]"
      ],
      "execution_count": 10,
      "outputs": []
    },
    {
      "cell_type": "code",
      "metadata": {
        "colab": {
          "base_uri": "https://localhost:8080/"
        },
        "id": "lNcsMW1jKT5Y",
        "outputId": "b071b986-c90f-4c53-83ca-6c521c256093"
      },
      "source": [
        "# 도미 무게에 대한 갯수\n",
        "len(bream_weight)"
      ],
      "execution_count": 11,
      "outputs": [
        {
          "output_type": "execute_result",
          "data": {
            "text/plain": [
              "35"
            ]
          },
          "metadata": {},
          "execution_count": 11
        }
      ]
    },
    {
      "cell_type": "code",
      "metadata": {
        "id": "0aTT_RPSKaUx"
      },
      "source": [
        "import matplotlib.pyplot as plt"
      ],
      "execution_count": 12,
      "outputs": []
    },
    {
      "cell_type": "code",
      "metadata": {
        "colab": {
          "base_uri": "https://localhost:8080/",
          "height": 449
        },
        "id": "um-GrCwNKuB0",
        "outputId": "8eceb7d4-8afc-4967-a9bb-621f57e38847"
      },
      "source": [
        "# 도미의 길이와 무게를 합쳐서 도미 스펙에 대한 분포도 길이로 봤을때 26~33 cm가 제일 많이 분포 되어 있다.\n",
        "plt.scatter(bream_length,bream_weight)\n",
        "plt.xlabel('length')\n",
        "plt.ylabel('weight')\n",
        "plt.show()"
      ],
      "execution_count": 13,
      "outputs": [
        {
          "output_type": "display_data",
          "data": {
            "text/plain": [
              "<Figure size 640x480 with 1 Axes>"
            ],
            "image/png": "[encoded data removed]"
          },
          "metadata": {}
        }
      ]
    },
    {
      "cell_type": "code",
      "metadata": {
        "id": "MMZMkn58LSzG"
      },
      "source": [
        "# 빙어\n",
        "# 빙어 길이\n",
        "smelt_length=[9.3, 10, 10.1, 10.4, 10.7, 10.8, 11.3, 11.3, 11.4, 11.5, 11.7, 12.1, 13.2, 13.8]"
      ],
      "execution_count": 14,
      "outputs": []
    },
    {
      "cell_type": "code",
      "metadata": {
        "id": "AJFfOnkNL7OK"
      },
      "source": [
        "# 빙어 무게\n",
        "smelt_weight=[6.7, 7.5, 7.0, 9.7, 9.8, 8.7, 10, 9.9, 9.8, 12.2, 13.4, 12.2, 19.7, 19.9]"
      ],
      "execution_count": 15,
      "outputs": []
    },
    {
      "cell_type": "code",
      "metadata": {
        "id": "v9hyKkkSMMa2",
        "colab": {
          "base_uri": "https://localhost:8080/"
        },
        "outputId": "6f8b02dd-0066-4d32-976d-64002de634e7"
      },
      "source": [
        "len(smelt_length)"
      ],
      "execution_count": 16,
      "outputs": [
        {
          "output_type": "execute_result",
          "data": {
            "text/plain": [
              "14"
            ]
          },
          "metadata": {},
          "execution_count": 16
        }
      ]
    },
    {
      "cell_type": "code",
      "metadata": {
        "colab": {
          "base_uri": "https://localhost:8080/"
        },
        "id": "oLoKf5zoMQwt",
        "outputId": "db865c78-a6de-4355-8baf-e36b03bcc1d8"
      },
      "source": [
        "len(smelt_weight)"
      ],
      "execution_count": 17,
      "outputs": [
        {
          "output_type": "execute_result",
          "data": {
            "text/plain": [
              "14"
            ]
          },
          "metadata": {},
          "execution_count": 17
        }
      ]
    },
    {
      "cell_type": "code",
      "metadata": {
        "colab": {
          "base_uri": "https://localhost:8080/",
          "height": 449
        },
        "id": "g40yb3kUMZFu",
        "outputId": "98475507-6185-4bb0-bf30-9b0513837328"
      },
      "source": [
        "# 빙어에 대한 분포도 해석: 길이 기준 10cm~ 12.5cm에 많이 분포하는 것으로 보임\n",
        "plt.scatter(smelt_length,smelt_weight)\n",
        "plt.xlabel('length')\n",
        "plt.ylabel('weight')\n",
        "plt.show()"
      ],
      "execution_count": 18,
      "outputs": [
        {
          "output_type": "display_data",
          "data": {
            "text/plain": [
              "<Figure size 640x480 with 1 Axes>"
            ],
            "image/png": "[encoded data removed]"
          },
          "metadata": {}
        }
      ]
    },
    {
      "cell_type": "code",
      "metadata": {
        "id": "gIPLg542Mgyv"
      },
      "source": [
        "# 도미와 빙어의 길이의 총합을 보자\n",
        "length = bream_length + smelt_length"
      ],
      "execution_count": 19,
      "outputs": []
    },
    {
      "cell_type": "code",
      "source": [
        "length"
      ],
      "metadata": {
        "colab": {
          "base_uri": "https://localhost:8080/"
        },
        "id": "JdQUB4ilyzxV",
        "outputId": "126b73ac-b42d-4b11-c3e3-53905a883ed5"
      },
      "execution_count": 20,
      "outputs": [
        {
          "output_type": "execute_result",
          "data": {
            "text/plain": [
              "[23.2,\n",
              " 24,\n",
              " 23.9,\n",
              " 26.3,\n",
              " 26.5,\n",
              " 26.8,\n",
              " 26.8,\n",
              " 27.6,\n",
              " 27.6,\n",
              " 28.5,\n",
              " 28.4,\n",
              " 28.7,\n",
              " 29.1,\n",
              " 29.5,\n",
              " 29.4,\n",
              " 29.4,\n",
              " 30.4,\n",
              " 30.4,\n",
              " 30.9,\n",
              " 31,\n",
              " 31.3,\n",
              " 31.4,\n",
              " 31.5,\n",
              " 31.8,\n",
              " 31.9,\n",
              " 31.8,\n",
              " 32,\n",
              " 32.7,\n",
              " 32.8,\n",
              " 33.5,\n",
              " 35,\n",
              " 35,\n",
              " 36.2,\n",
              " 37.4,\n",
              " 38,\n",
              " 9.3,\n",
              " 10,\n",
              " 10.1,\n",
              " 10.4,\n",
              " 10.7,\n",
              " 10.8,\n",
              " 11.3,\n",
              " 11.3,\n",
              " 11.4,\n",
              " 11.5,\n",
              " 11.7,\n",
              " 12.1,\n",
              " 13.2,\n",
              " 13.8]"
            ]
          },
          "metadata": {},
          "execution_count": 20
        }
      ]
    },
    {
      "cell_type": "code",
      "metadata": {
        "id": "3gqDk-9SMnkS"
      },
      "source": [
        "# 도미와 빙어 무게의 총합\n",
        "weight = bream_weight + smelt_weight"
      ],
      "execution_count": 21,
      "outputs": []
    },
    {
      "cell_type": "code",
      "source": [
        "weight"
      ],
      "metadata": {
        "id": "1Zqmpatnf6es",
        "outputId": "54612a5f-9f72-4544-be24-b44031476944",
        "colab": {
          "base_uri": "https://localhost:8080/"
        }
      },
      "execution_count": 41,
      "outputs": [
        {
          "output_type": "execute_result",
          "data": {
            "text/plain": [
              "[242,\n",
              " 290,\n",
              " 340,\n",
              " 363,\n",
              " 430,\n",
              " 450,\n",
              " 500,\n",
              " 390,\n",
              " 450,\n",
              " 500,\n",
              " 475,\n",
              " 500,\n",
              " 500,\n",
              " 340,\n",
              " 600,\n",
              " 600,\n",
              " 700,\n",
              " 700,\n",
              " 610,\n",
              " 650,\n",
              " 575,\n",
              " 685,\n",
              " 620,\n",
              " 680,\n",
              " 700,\n",
              " 725,\n",
              " 720,\n",
              " 714,\n",
              " 850,\n",
              " 1000,\n",
              " 920,\n",
              " 955,\n",
              " 925,\n",
              " 975,\n",
              " 950,\n",
              " 6.7,\n",
              " 7.5,\n",
              " 7.0,\n",
              " 9.7,\n",
              " 9.8,\n",
              " 8.7,\n",
              " 10,\n",
              " 9.9,\n",
              " 9.8,\n",
              " 12.2,\n",
              " 13.4,\n",
              " 12.2,\n",
              " 19.7,\n",
              " 19.9]"
            ]
          },
          "metadata": {},
          "execution_count": 41
        }
      ]
    },
    {
      "cell_type": "code",
      "metadata": {
        "colab": {
          "base_uri": "https://localhost:8080/"
        },
        "id": "m2Ee1ko1MuL4",
        "outputId": "d0cca8cf-ce63-4bf1-ca92-c5c015b010d4"
      },
      "source": [
        "len(length)"
      ],
      "execution_count": 23,
      "outputs": [
        {
          "output_type": "execute_result",
          "data": {
            "text/plain": [
              "49"
            ]
          },
          "metadata": {},
          "execution_count": 23
        }
      ]
    },
    {
      "cell_type": "code",
      "metadata": {
        "colab": {
          "base_uri": "https://localhost:8080/"
        },
        "id": "tIN10EBYMxJZ",
        "outputId": "6fdb03bd-1e1b-4739-e7df-1720299aa904"
      },
      "source": [
        "len(weight)"
      ],
      "execution_count": 24,
      "outputs": [
        {
          "output_type": "execute_result",
          "data": {
            "text/plain": [
              "49"
            ]
          },
          "metadata": {},
          "execution_count": 24
        }
      ]
    },
    {
      "cell_type": "code",
      "metadata": {
        "id": "LlOs_Kb1M1jN"
      },
      "source": [
        "# 도미와 빙어의 길이와 무게를 세트로 맞쳐 준다.\n",
        "fish_data = [[l,w] for l,w in zip(length, weight)]"
      ],
      "execution_count": 25,
      "outputs": []
    },
    {
      "cell_type": "code",
      "metadata": {
        "colab": {
          "base_uri": "https://localhost:8080/"
        },
        "id": "XLgL7kVANL8f",
        "outputId": "aa9edd0e-118c-4a9e-9553-633d14fd2a73"
      },
      "source": [
        "fish_data  # [길이, 무게]"
      ],
      "execution_count": 27,
      "outputs": [
        {
          "output_type": "execute_result",
          "data": {
            "text/plain": [
              "[[23.2, 242],\n",
              " [24, 290],\n",
              " [23.9, 340],\n",
              " [26.3, 363],\n",
              " [26.5, 430],\n",
              " [26.8, 450],\n",
              " [26.8, 500],\n",
              " [27.6, 390],\n",
              " [27.6, 450],\n",
              " [28.5, 500],\n",
              " [28.4, 475],\n",
              " [28.7, 500],\n",
              " [29.1, 500],\n",
              " [29.5, 340],\n",
              " [29.4, 600],\n",
              " [29.4, 600],\n",
              " [30.4, 700],\n",
              " [30.4, 700],\n",
              " [30.9, 610],\n",
              " [31, 650],\n",
              " [31.3, 575],\n",
              " [31.4, 685],\n",
              " [31.5, 620],\n",
              " [31.8, 680],\n",
              " [31.9, 700],\n",
              " [31.8, 725],\n",
              " [32, 720],\n",
              " [32.7, 714],\n",
              " [32.8, 850],\n",
              " [33.5, 1000],\n",
              " [35, 920],\n",
              " [35, 955],\n",
              " [36.2, 925],\n",
              " [37.4, 975],\n",
              " [38, 950],\n",
              " [9.3, 6.7],\n",
              " [10, 7.5],\n",
              " [10.1, 7.0],\n",
              " [10.4, 9.7],\n",
              " [10.7, 9.8],\n",
              " [10.8, 8.7],\n",
              " [11.3, 10],\n",
              " [11.3, 9.9],\n",
              " [11.4, 9.8],\n",
              " [11.5, 12.2],\n",
              " [11.7, 13.4],\n",
              " [12.1, 12.2],\n",
              " [13.2, 19.7],\n",
              " [13.8, 19.9]]"
            ]
          },
          "metadata": {},
          "execution_count": 27
        }
      ]
    },
    {
      "cell_type": "code",
      "metadata": {
        "id": "Zi-6sUbZNWv6"
      },
      "source": [
        "# 정답지 만들기: 도미는 1, 빙어는 0 작성순서 중요하다. 왜냐하면 fish_data 변수에서 도미 -> 빙어로 나열하기 때문이다.\n",
        "fish_target = [1]*35 + [0]*14"
      ],
      "execution_count": 42,
      "outputs": []
    },
    {
      "cell_type": "code",
      "metadata": {
        "colab": {
          "base_uri": "https://localhost:8080/"
        },
        "id": "4I6bM4PENeM3",
        "outputId": "836a5543-82ab-4fb4-9e22-4d728df1b2a2"
      },
      "source": [
        "fish_target"
      ],
      "execution_count": 29,
      "outputs": [
        {
          "output_type": "execute_result",
          "data": {
            "text/plain": [
              "[1,\n",
              " 1,\n",
              " 1,\n",
              " 1,\n",
              " 1,\n",
              " 1,\n",
              " 1,\n",
              " 1,\n",
              " 1,\n",
              " 1,\n",
              " 1,\n",
              " 1,\n",
              " 1,\n",
              " 1,\n",
              " 1,\n",
              " 1,\n",
              " 1,\n",
              " 1,\n",
              " 1,\n",
              " 1,\n",
              " 1,\n",
              " 1,\n",
              " 1,\n",
              " 1,\n",
              " 1,\n",
              " 1,\n",
              " 1,\n",
              " 1,\n",
              " 1,\n",
              " 1,\n",
              " 1,\n",
              " 1,\n",
              " 1,\n",
              " 1,\n",
              " 1,\n",
              " 0,\n",
              " 0,\n",
              " 0,\n",
              " 0,\n",
              " 0,\n",
              " 0,\n",
              " 0,\n",
              " 0,\n",
              " 0,\n",
              " 0,\n",
              " 0,\n",
              " 0,\n",
              " 0,\n",
              " 0]"
            ]
          },
          "metadata": {},
          "execution_count": 29
        }
      ]
    },
    {
      "cell_type": "code",
      "metadata": {
        "id": "xtiQlgLXPZYS"
      },
      "source": [
        "# 분류 모델 적용\n",
        "from sklearn.neighbors import KNeighborsClassifier"
      ],
      "execution_count": 32,
      "outputs": []
    },
    {
      "cell_type": "code",
      "metadata": {
        "id": "_CepfzzDPo_o"
      },
      "source": [
        "# 변수 지정해서 객체 만들기\n",
        "kn = KNeighborsClassifier()"
      ],
      "execution_count": 33,
      "outputs": []
    },
    {
      "cell_type": "code",
      "metadata": {
        "id": "rkzigOBaP2FY",
        "colab": {
          "base_uri": "https://localhost:8080/",
          "height": 75
        },
        "outputId": "f34d61f9-729c-4d3b-d41e-2c4cdf31545d"
      },
      "source": [
        "kn.fit(fish_data, fish_target)"
      ],
      "execution_count": 34,
      "outputs": [
        {
          "output_type": "execute_result",
          "data": {
            "text/plain": [
              "KNeighborsClassifier()"
            ],
            "text/html": [
              "<style>#sk-container-id-1 {color: black;background-color: white;}#sk-container-id-1 pre{padding: 0;}#sk-container-id-1 div.sk-toggleable {background-color: white;}#sk-container-id-1 label.sk-toggleable__label {cursor: pointer;display: block;width: 100%;margin-bottom: 0;padding: 0.3em;box-sizing: border-box;text-align: center;}#sk-container-id-1 label.sk-toggleable__label-arrow:before {content: \"▸\";float: left;margin-right: 0.25em;color: #696969;}#sk-container-id-1 label.sk-toggleable__label-arrow:hover:before {color: black;}#sk-container-id-1 div.sk-estimator:hover label.sk-toggleable__label-arrow:before {color: black;}#sk-container-id-1 div.sk-toggleable__content {max-height: 0;max-width: 0;overflow: hidden;text-align: left;background-color: #f0f8ff;}#sk-container-id-1 div.sk-toggleable__content pre {margin: 0.2em;color: black;border-radius: 0.25em;background-color: #f0f8ff;}#sk-container-id-1 input.sk-toggleable__control:checked~div.sk-toggleable__content {max-height: 200px;max-width: 100%;overflow: auto;}#sk-container-id-1 input.sk-toggleable__control:checked~label.sk-toggleable__label-arrow:before {content: \"▾\";}#sk-container-id-1 div.sk-estimator input.sk-toggleable__control:checked~label.sk-toggleable__label {background-color: #d4ebff;}#sk-container-id-1 div.sk-label input.sk-toggleable__control:checked~label.sk-toggleable__label {background-color: #d4ebff;}#sk-container-id-1 input.sk-hidden--visually {border: 0;clip: rect(1px 1px 1px 1px);clip: rect(1px, 1px, 1px, 1px);height: 1px;margin: -1px;overflow: hidden;padding: 0;position: absolute;width: 1px;}#sk-container-id-1 div.sk-estimator {font-family: monospace;background-color: #f0f8ff;border: 1px dotted black;border-radius: 0.25em;box-sizing: border-box;margin-bottom: 0.5em;}#sk-container-id-1 div.sk-estimator:hover {background-color: #d4ebff;}#sk-container-id-1 div.sk-parallel-item::after {content: \"\";width: 100%;border-bottom: 1px solid gray;flex-grow: 1;}#sk-container-id-1 div.sk-label:hover label.sk-toggleable__label {background-color: #d4ebff;}#sk-container-id-1 div.sk-serial::before {content: \"\";position: absolute;border-left: 1px solid gray;box-sizing: border-box;top: 0;bottom: 0;left: 50%;z-index: 0;}#sk-container-id-1 div.sk-serial {display: flex;flex-direction: column;align-items: center;background-color: white;padding-right: 0.2em;padding-left: 0.2em;position: relative;}#sk-container-id-1 div.sk-item {position: relative;z-index: 1;}#sk-container-id-1 div.sk-parallel {display: flex;align-items: stretch;justify-content: center;background-color: white;position: relative;}#sk-container-id-1 div.sk-item::before, #sk-container-id-1 div.sk-parallel-item::before {content: \"\";position: absolute;border-left: 1px solid gray;box-sizing: border-box;top: 0;bottom: 0;left: 50%;z-index: -1;}#sk-container-id-1 div.sk-parallel-item {display: flex;flex-direction: column;z-index: 1;position: relative;background-color: white;}#sk-container-id-1 div.sk-parallel-item:first-child::after {align-self: flex-end;width: 50%;}#sk-container-id-1 div.sk-parallel-item:last-child::after {align-self: flex-start;width: 50%;}#sk-container-id-1 div.sk-parallel-item:only-child::after {width: 0;}#sk-container-id-1 div.sk-dashed-wrapped {border: 1px dashed gray;margin: 0 0.4em 0.5em 0.4em;box-sizing: border-box;padding-bottom: 0.4em;background-color: white;}#sk-container-id-1 div.sk-label label {font-family: monospace;font-weight: bold;display: inline-block;line-height: 1.2em;}#sk-container-id-1 div.sk-label-container {text-align: center;}#sk-container-id-1 div.sk-container {/* jupyter's `normalize.less` sets `[hidden] { display: none; }` but bootstrap.min.css set `[hidden] { display: none !important; }` so we also need the `!important` here to be able to override the default hidden behavior on the sphinx rendered scikit-learn.org. See: https://github.com/scikit-learn/scikit-learn/issues/21755 */display: inline-block !important;position: relative;}#sk-container-id-1 div.sk-text-repr-fallback {display: none;}</style><div id=\"sk-container-id-1\" class=\"sk-top-container\"><div class=\"sk-text-repr-fallback\"><pre>KNeighborsClassifier()</pre><b>In a Jupyter environment, please rerun this cell to show the HTML representation or trust the notebook. <br />On GitHub, the HTML representation is unable to render, please try loading this page with nbviewer.org.</b></div><div class=\"sk-container\" hidden><div class=\"sk-item\"><div class=\"sk-estimator sk-toggleable\"><input class=\"sk-toggleable__control sk-hidden--visually\" id=\"sk-estimator-id-1\" type=\"checkbox\" checked><label for=\"sk-estimator-id-1\" class=\"sk-toggleable__label sk-toggleable__label-arrow\">KNeighborsClassifier</label><div class=\"sk-toggleable__content\"><pre>KNeighborsClassifier()</pre></div></div></div></div></div>"
            ]
          },
          "metadata": {},
          "execution_count": 34
        }
      ]
    },
    {
      "cell_type": "code",
      "metadata": {
        "colab": {
          "base_uri": "https://localhost:8080/"
        },
        "id": "uFlvgwwjP8JH",
        "outputId": "2633f52e-9ef6-4c2d-98c8-2e3e636c9551"
      },
      "source": [
        "# 모델 평가\n",
        "kn.score(fish_data,fish_target) * 100 # 정확도 100% 나온다."
      ],
      "execution_count": 45,
      "outputs": [
        {
          "output_type": "execute_result",
          "data": {
            "text/plain": [
              "100.0"
            ]
          },
          "metadata": {},
          "execution_count": 45
        }
      ]
    },
    {
      "cell_type": "code",
      "metadata": {
        "id": "GM3Ur86-KiWw"
      },
      "source": [
        "# 길이가 30 무게가 600인 생선은 무엇일까요?\n",
        "# 길이가 100 무게가 880인 생선은 무엇일까요?  코드로 만들어 보기 "
      ],
      "execution_count": 36,
      "outputs": []
    },
    {
      "cell_type": "code",
      "source": [
        "kn.predict([[30,600]])"
      ],
      "metadata": {
        "id": "QrO1KYGMiXbW",
        "outputId": "45cec9f1-5efd-4a12-9541-2063010e8ab7",
        "colab": {
          "base_uri": "https://localhost:8080/"
        }
      },
      "execution_count": 47,
      "outputs": [
        {
          "output_type": "execute_result",
          "data": {
            "text/plain": [
              "array([1])"
            ]
          },
          "metadata": {},
          "execution_count": 47
        }
      ]
    },
    {
      "cell_type": "code",
      "source": [
        "kn.predict([[100,880]])"
      ],
      "metadata": {
        "id": "8hfRokP2igeU",
        "outputId": "13849dc0-ce1b-41a6-9c03-b246ea7023d6",
        "colab": {
          "base_uri": "https://localhost:8080/"
        }
      },
      "execution_count": 48,
      "outputs": [
        {
          "output_type": "execute_result",
          "data": {
            "text/plain": [
              "array([1])"
            ]
          },
          "metadata": {},
          "execution_count": 48
        }
      ]
    },
    {
      "cell_type": "code",
      "metadata": {
        "id": "lkgz832LLN1u",
        "colab": {
          "base_uri": "https://localhost:8080/"
        },
        "outputId": "6d295936-c8ef-4d46-f77b-bdc8d4a15521"
      },
      "source": [
        "kn.predict([[50,150]])"
      ],
      "execution_count": 37,
      "outputs": [
        {
          "output_type": "execute_result",
          "data": {
            "text/plain": [
              "array([0])"
            ]
          },
          "metadata": {},
          "execution_count": 37
        }
      ]
    },
    {
      "cell_type": "code",
      "metadata": {
        "colab": {
          "base_uri": "https://localhost:8080/"
        },
        "id": "uPV7fSNYSImo",
        "outputId": "2f0da1a0-6c63-47f9-a770-2235d24625a8"
      },
      "source": [
        "kn.predict([[55,200]])"
      ],
      "execution_count": 38,
      "outputs": [
        {
          "output_type": "execute_result",
          "data": {
            "text/plain": [
              "array([1])"
            ]
          },
          "metadata": {},
          "execution_count": 38
        }
      ]
    },
    {
      "cell_type": "code",
      "metadata": {
        "colab": {
          "base_uri": "https://localhost:8080/"
        },
        "id": "RWAdLYOjLUEe",
        "outputId": "d43c5606-fc4f-4a58-e900-ed79a6d9c1eb"
      },
      "source": [
        "#200, 1200 <-  코드실습 (46분)\n",
        "kn.predict([[200,1200]])\n"
      ],
      "execution_count": 49,
      "outputs": [
        {
          "output_type": "execute_result",
          "data": {
            "text/plain": [
              "array([1])"
            ]
          },
          "metadata": {},
          "execution_count": 49
        }
      ]
    },
    {
      "cell_type": "markdown",
      "source": [
        "길이가 15이고 무게가 130인 물고기의 품종은?\n",
        "길어가 20이고 무게가 250인 물고기의 품종은?"
      ],
      "metadata": {
        "id": "DXMNcjFb1iEk"
      }
    },
    {
      "cell_type": "code",
      "source": [
        "kn.predict([[15,130]])"
      ],
      "metadata": {
        "id": "oJYAkCvYhTqp",
        "outputId": "68c24d67-e7e6-4b64-a068-4ebb63c1b517",
        "colab": {
          "base_uri": "https://localhost:8080/"
        }
      },
      "execution_count": 43,
      "outputs": [
        {
          "output_type": "execute_result",
          "data": {
            "text/plain": [
              "array([0])"
            ]
          },
          "metadata": {},
          "execution_count": 43
        }
      ]
    },
    {
      "cell_type": "code",
      "metadata": {
        "colab": {
          "base_uri": "https://localhost:8080/",
          "height": 467
        },
        "id": "rHDkvt6kSIS4",
        "outputId": "998e8289-25f3-40bf-8138-f7a553e9f33f"
      },
      "source": [
        "plt.scatter(bream_length, bream_weight)\n",
        "plt.scatter(smelt_length, smelt_weight)\n",
        "plt.scatter(20, 250, marker='^')  # 좀더 도미 품종에 가깝다는 것을 알게 된다. \n",
        "plt.xlabel('length')\n",
        "plt.ylabel('weight')\n",
        "plt.show"
      ],
      "execution_count": 51,
      "outputs": [
        {
          "output_type": "execute_result",
          "data": {
            "text/plain": [
              "<function matplotlib.pyplot.show(close=None, block=None)>"
            ]
          },
          "metadata": {},
          "execution_count": 51
        },
        {
          "output_type": "display_data",
          "data": {
            "text/plain": [
              "<Figure size 640x480 with 1 Axes>"
            ],
            "image/png": "[encoded data removed]"
          },
          "metadata": {}
        }
      ]
    }
  ]
}