{
  "nbformat": 4,
  "nbformat_minor": 0,
  "metadata": {
    "colab": {
      "provenance": []
    },
    "kernelspec": {
      "name": "python3",
      "display_name": "Python 3"
    },
    "language_info": {
      "name": "python"
    }
  },
  "cells": [
    {
      "cell_type": "code",
      "metadata": {
        "id": "jgyxCrOaJZQH"
      },
      "source": [
        "data = [10,11,12]"
      ],
      "execution_count": null,
      "outputs": []
    },
    {
      "cell_type": "code",
      "metadata": {
        "colab": {
          "base_uri": "https://localhost:8080/"
        },
        "id": "eryqHuQKJjCp",
        "outputId": "c3b9c0ed-6e22-41d2-b2e6-ffa03f2548ac"
      },
      "source": [
        "data"
      ],
      "execution_count": null,
      "outputs": [
        {
          "output_type": "execute_result",
          "data": {
            "text/plain": [
              "[10, 11, 12]"
            ]
          },
          "metadata": {},
          "execution_count": 2
        }
      ]
    },
    {
      "cell_type": "code",
      "source": [
        "print(data)"
      ],
      "metadata": {
        "colab": {
          "base_uri": "https://localhost:8080/"
        },
        "id": "Kq0Fea5zdSU1",
        "outputId": "91f2ec41-5630-4e37-c150-6b1e759453ef"
      },
      "execution_count": null,
      "outputs": [
        {
          "output_type": "stream",
          "name": "stdout",
          "text": [
            "[10, 11, 12]\n"
          ]
        }
      ]
    },
    {
      "cell_type": "code",
      "metadata": {
        "id": "T72vNNnZJocX"
      },
      "source": [
        "bream_length=[23.2, 24, 23.9, 26.3, 26.5, 26.8, 26.8, 27.6, 27.6, 28.5, 28.4, 28.7, 29.1, 29.5, 29.4, 29.4, 30.4, 30.4, 30.9, 31, 31.3, 31.4, 31.5, 31.8, 31.9, 31.8, 32, 32.7, 32.8, 33.5, 35, 35, 36.2, 37.4, 38]"
      ],
      "execution_count": null,
      "outputs": []
    },
    {
      "cell_type": "code",
      "metadata": {
        "colab": {
          "base_uri": "https://localhost:8080/"
        },
        "id": "OrQyDtUZJ7vw",
        "outputId": "217a8f51-15c3-4bbf-a501-6a04fcca66bc"
      },
      "source": [
        "bream_length"
      ],
      "execution_count": null,
      "outputs": [
        {
          "output_type": "execute_result",
          "data": {
            "text/plain": [
              "[23.2,\n",
              " 24,\n",
              " 23.9,\n",
              " 26.3,\n",
              " 26.5,\n",
              " 26.8,\n",
              " 26.8,\n",
              " 27.6,\n",
              " 27.6,\n",
              " 28.5,\n",
              " 28.4,\n",
              " 28.7,\n",
              " 29.1,\n",
              " 29.5,\n",
              " 29.4,\n",
              " 29.4,\n",
              " 30.4,\n",
              " 30.4,\n",
              " 30.9,\n",
              " 31,\n",
              " 31.3,\n",
              " 31.4,\n",
              " 31.5,\n",
              " 31.8,\n",
              " 31.9,\n",
              " 31.8,\n",
              " 32,\n",
              " 32.7,\n",
              " 32.8,\n",
              " 33.5,\n",
              " 35,\n",
              " 35,\n",
              " 36.2,\n",
              " 37.4,\n",
              " 38]"
            ]
          },
          "metadata": {},
          "execution_count": 6
        }
      ]
    },
    {
      "cell_type": "code",
      "source": [],
      "metadata": {
        "id": "8qDSlwcaeCQa"
      },
      "execution_count": null,
      "outputs": []
    },
    {
      "cell_type": "code",
      "metadata": {
        "id": "lmnlCUa_J94W",
        "colab": {
          "base_uri": "https://localhost:8080/"
        },
        "outputId": "53163148-1cd8-4781-83cd-8939b3c559a7"
      },
      "source": [
        "len(bream_length)"
      ],
      "execution_count": null,
      "outputs": [
        {
          "output_type": "execute_result",
          "data": {
            "text/plain": [
              "35"
            ]
          },
          "metadata": {},
          "execution_count": 7
        }
      ]
    },
    {
      "cell_type": "code",
      "metadata": {
        "id": "GUnU0Z4sKKO8"
      },
      "source": [
        "bream_weight=[242, 290, 340, 363, 430, 450, 500, 390, 450, 500, 475, 500, 500, 340, 600, 600, 700, 700, 610, 650, 575, 685, 620, 680, 700, 725, 720, 714, 850, 1000, 920, 955, 925, 975, 950]"
      ],
      "execution_count": null,
      "outputs": []
    },
    {
      "cell_type": "code",
      "metadata": {
        "colab": {
          "base_uri": "https://localhost:8080/"
        },
        "id": "lNcsMW1jKT5Y",
        "outputId": "d2db522b-b9a0-4f89-dacd-778594fe48a3"
      },
      "source": [
        "len(bream_weight)"
      ],
      "execution_count": null,
      "outputs": [
        {
          "output_type": "execute_result",
          "data": {
            "text/plain": [
              "35"
            ]
          },
          "metadata": {},
          "execution_count": 17
        }
      ]
    },
    {
      "cell_type": "code",
      "metadata": {
        "id": "0aTT_RPSKaUx"
      },
      "source": [
        "import matplotlib.pyplot as plt"
      ],
      "execution_count": null,
      "outputs": []
    },
    {
      "cell_type": "code",
      "metadata": {
        "colab": {
          "base_uri": "https://localhost:8080/",
          "height": 448
        },
        "id": "uo9CcMiRKnp4",
        "outputId": "870d37e9-4052-46df-e3e8-39203671b9f6"
      },
      "source": [
        "plt.scatter(bream_length,bream_weight)"
      ],
      "execution_count": null,
      "outputs": [
        {
          "output_type": "execute_result",
          "data": {
            "text/plain": [
              "<matplotlib.collections.PathCollection at 0x7faacc49c940>"
            ]
          },
          "metadata": {},
          "execution_count": 19
        },
        {
          "output_type": "display_data",
          "data": {
            "text/plain": [
              "<Figure size 640x480 with 1 Axes>"
            ],
            "image/png": "[encoded data removed]"
          },
          "metadata": {}
        }
      ]
    },
    {
      "cell_type": "code",
      "metadata": {
        "colab": {
          "base_uri": "https://localhost:8080/",
          "height": 449
        },
        "id": "um-GrCwNKuB0",
        "outputId": "bcd89b5d-df1e-4c94-fd1e-36f3f45f1ff9"
      },
      "source": [
        "plt.scatter(bream_length,bream_weight)\n",
        "plt.xlabel('length')\n",
        "plt.ylabel('weight')\n",
        "plt.show()"
      ],
      "execution_count": null,
      "outputs": [
        {
          "output_type": "display_data",
          "data": {
            "text/plain": [
              "<Figure size 640x480 with 1 Axes>"
            ],
            "image/png": "[encoded data removed]"
          },
          "metadata": {}
        }
      ]
    },
    {
      "cell_type": "code",
      "metadata": {
        "id": "MMZMkn58LSzG"
      },
      "source": [
        "smelt_length=[9.3, 10, 10.1, 10.4, 10.7, 10.8, 11.3, 11.3, 11.4, 11.5, 11.7, 12.1, 13.2, 13.8]"
      ],
      "execution_count": null,
      "outputs": []
    },
    {
      "cell_type": "code",
      "metadata": {
        "id": "AJFfOnkNL7OK"
      },
      "source": [
        "smelt_weight=[6.7, 7.5, 7.0, 9.7, 9.8, 8.7, 10, 9.9, 9.8, 12.2, 13.4, 12.2, 19.7, 19.9]"
      ],
      "execution_count": null,
      "outputs": []
    },
    {
      "cell_type": "code",
      "metadata": {
        "id": "v9hyKkkSMMa2",
        "colab": {
          "base_uri": "https://localhost:8080/"
        },
        "outputId": "b4515491-ff9f-4d7d-911b-f05bd1539b08"
      },
      "source": [
        "len(smelt_length)"
      ],
      "execution_count": null,
      "outputs": [
        {
          "output_type": "execute_result",
          "data": {
            "text/plain": [
              "14"
            ]
          },
          "metadata": {},
          "execution_count": 23
        }
      ]
    },
    {
      "cell_type": "code",
      "metadata": {
        "colab": {
          "base_uri": "https://localhost:8080/"
        },
        "id": "oLoKf5zoMQwt",
        "outputId": "698c3bf3-fe84-4f75-8b51-2f7ac6908930"
      },
      "source": [
        "len(smelt_weight)"
      ],
      "execution_count": null,
      "outputs": [
        {
          "output_type": "execute_result",
          "data": {
            "text/plain": [
              "14"
            ]
          },
          "metadata": {},
          "execution_count": 24
        }
      ]
    },
    {
      "cell_type": "code",
      "metadata": {
        "colab": {
          "base_uri": "https://localhost:8080/",
          "height": 449
        },
        "id": "g40yb3kUMZFu",
        "outputId": "a72e8e49-655a-443b-d56e-360564856efa"
      },
      "source": [
        "plt.scatter(smelt_length,smelt_weight)\n",
        "plt.xlabel('length')\n",
        "plt.ylabel('weight')\n",
        "plt.show()"
      ],
      "execution_count": null,
      "outputs": [
        {
          "output_type": "display_data",
          "data": {
            "text/plain": [
              "<Figure size 640x480 with 1 Axes>"
            ],
            "image/png": "[encoded data removed]"
          },
          "metadata": {}
        }
      ]
    },
    {
      "cell_type": "code",
      "metadata": {
        "id": "gIPLg542Mgyv"
      },
      "source": [
        "length=bream_length+smelt_length"
      ],
      "execution_count": null,
      "outputs": []
    },
    {
      "cell_type": "code",
      "source": [
        "smelt_length"
      ],
      "metadata": {
        "colab": {
          "base_uri": "https://localhost:8080/"
        },
        "id": "JdQUB4ilyzxV",
        "outputId": "b4330536-6792-4ea4-ba93-f1e559e9e78d"
      },
      "execution_count": null,
      "outputs": [
        {
          "output_type": "execute_result",
          "data": {
            "text/plain": [
              "[9.3,\n",
              " 10,\n",
              " 10.1,\n",
              " 10.4,\n",
              " 10.7,\n",
              " 10.8,\n",
              " 11.3,\n",
              " 11.3,\n",
              " 11.4,\n",
              " 11.5,\n",
              " 11.7,\n",
              " 12.1,\n",
              " 13.2,\n",
              " 13.8]"
            ]
          },
          "metadata": {},
          "execution_count": 27
        }
      ]
    },
    {
      "cell_type": "code",
      "metadata": {
        "id": "3gqDk-9SMnkS"
      },
      "source": [
        "weight=bream_weight+smelt_weight"
      ],
      "execution_count": null,
      "outputs": []
    },
    {
      "cell_type": "code",
      "source": [
        "smelt_weight"
      ],
      "metadata": {
        "colab": {
          "base_uri": "https://localhost:8080/"
        },
        "id": "1SOf8bAGToFZ",
        "outputId": "b9dbb458-2159-4dcc-f024-c81957e9a941"
      },
      "execution_count": null,
      "outputs": [
        {
          "output_type": "execute_result",
          "data": {
            "text/plain": [
              "[6.7, 7.5, 7.0, 9.7, 9.8, 8.7, 10, 9.9, 9.8, 12.2, 13.4, 12.2, 19.7, 19.9]"
            ]
          },
          "metadata": {},
          "execution_count": 29
        }
      ]
    },
    {
      "cell_type": "code",
      "metadata": {
        "colab": {
          "base_uri": "https://localhost:8080/"
        },
        "id": "m2Ee1ko1MuL4",
        "outputId": "4cf97994-534a-4b27-ba2b-12c6f8a02ef7"
      },
      "source": [
        "len(length)"
      ],
      "execution_count": null,
      "outputs": [
        {
          "output_type": "execute_result",
          "data": {
            "text/plain": [
              "49"
            ]
          },
          "metadata": {},
          "execution_count": 30
        }
      ]
    },
    {
      "cell_type": "code",
      "metadata": {
        "colab": {
          "base_uri": "https://localhost:8080/"
        },
        "id": "tIN10EBYMxJZ",
        "outputId": "0e7052b7-00bc-44a6-9343-a76bd9c5b4df"
      },
      "source": [
        "len(weight)"
      ],
      "execution_count": null,
      "outputs": [
        {
          "output_type": "execute_result",
          "data": {
            "text/plain": [
              "49"
            ]
          },
          "metadata": {},
          "execution_count": 31
        }
      ]
    },
    {
      "cell_type": "code",
      "metadata": {
        "id": "LlOs_Kb1M1jN"
      },
      "source": [
        "fish_data=[[l,w] for l,w in zip(length, weight)]"
      ],
      "execution_count": null,
      "outputs": []
    },
    {
      "cell_type": "code",
      "source": [
        "length"
      ],
      "metadata": {
        "colab": {
          "base_uri": "https://localhost:8080/"
        },
        "id": "9GH9YAPQfX5M",
        "outputId": "5152bab7-a7d3-44ed-8847-86f17c23fafa"
      },
      "execution_count": null,
      "outputs": [
        {
          "output_type": "execute_result",
          "data": {
            "text/plain": [
              "[23.2,\n",
              " 24,\n",
              " 23.9,\n",
              " 26.3,\n",
              " 26.5,\n",
              " 26.8,\n",
              " 26.8,\n",
              " 27.6,\n",
              " 27.6,\n",
              " 28.5,\n",
              " 28.4,\n",
              " 28.7,\n",
              " 29.1,\n",
              " 29.5,\n",
              " 29.4,\n",
              " 29.4,\n",
              " 30.4,\n",
              " 30.4,\n",
              " 30.9,\n",
              " 31,\n",
              " 31.3,\n",
              " 31.4,\n",
              " 31.5,\n",
              " 31.8,\n",
              " 31.9,\n",
              " 31.8,\n",
              " 32,\n",
              " 32.7,\n",
              " 32.8,\n",
              " 33.5,\n",
              " 35,\n",
              " 35,\n",
              " 36.2,\n",
              " 37.4,\n",
              " 38,\n",
              " 9.3,\n",
              " 10,\n",
              " 10.1,\n",
              " 10.4,\n",
              " 10.7,\n",
              " 10.8,\n",
              " 11.3,\n",
              " 11.3,\n",
              " 11.4,\n",
              " 11.5,\n",
              " 11.7,\n",
              " 12.1,\n",
              " 13.2,\n",
              " 13.8]"
            ]
          },
          "metadata": {},
          "execution_count": 34
        }
      ]
    },
    {
      "cell_type": "code",
      "metadata": {
        "colab": {
          "base_uri": "https://localhost:8080/"
        },
        "id": "XLgL7kVANL8f",
        "outputId": "6d8005b4-376e-40fe-b068-83ee41a91d01"
      },
      "source": [
        "fish_data"
      ],
      "execution_count": null,
      "outputs": [
        {
          "output_type": "execute_result",
          "data": {
            "text/plain": [
              "[[23.2, 242],\n",
              " [24, 290],\n",
              " [23.9, 340],\n",
              " [26.3, 363],\n",
              " [26.5, 430],\n",
              " [26.8, 450],\n",
              " [26.8, 500],\n",
              " [27.6, 390],\n",
              " [27.6, 450],\n",
              " [28.5, 500],\n",
              " [28.4, 475],\n",
              " [28.7, 500],\n",
              " [29.1, 500],\n",
              " [29.5, 340],\n",
              " [29.4, 600],\n",
              " [29.4, 600],\n",
              " [30.4, 700],\n",
              " [30.4, 700],\n",
              " [30.9, 610],\n",
              " [31, 650],\n",
              " [31.3, 575],\n",
              " [31.4, 685],\n",
              " [31.5, 620],\n",
              " [31.8, 680],\n",
              " [31.9, 700],\n",
              " [31.8, 725],\n",
              " [32, 720],\n",
              " [32.7, 714],\n",
              " [32.8, 850],\n",
              " [33.5, 1000],\n",
              " [35, 920],\n",
              " [35, 955],\n",
              " [36.2, 925],\n",
              " [37.4, 975],\n",
              " [38, 950],\n",
              " [9.3, 6.7],\n",
              " [10, 7.5],\n",
              " [10.1, 7.0],\n",
              " [10.4, 9.7],\n",
              " [10.7, 9.8],\n",
              " [10.8, 8.7],\n",
              " [11.3, 10],\n",
              " [11.3, 9.9],\n",
              " [11.4, 9.8],\n",
              " [11.5, 12.2],\n",
              " [11.7, 13.4],\n",
              " [12.1, 12.2],\n",
              " [13.2, 19.7],\n",
              " [13.8, 19.9]]"
            ]
          },
          "metadata": {},
          "execution_count": 35
        }
      ]
    },
    {
      "cell_type": "code",
      "metadata": {
        "id": "Zi-6sUbZNWv6"
      },
      "source": [
        "fish_target=[1]*35 + [0]*14"
      ],
      "execution_count": null,
      "outputs": []
    },
    {
      "cell_type": "code",
      "metadata": {
        "colab": {
          "base_uri": "https://localhost:8080/"
        },
        "id": "4I6bM4PENeM3",
        "outputId": "0bb14a2a-7686-4829-8747-869c9fdd5e12"
      },
      "source": [
        "fish_target"
      ],
      "execution_count": null,
      "outputs": [
        {
          "output_type": "execute_result",
          "data": {
            "text/plain": [
              "[1,\n",
              " 1,\n",
              " 1,\n",
              " 1,\n",
              " 1,\n",
              " 1,\n",
              " 1,\n",
              " 1,\n",
              " 1,\n",
              " 1,\n",
              " 1,\n",
              " 1,\n",
              " 1,\n",
              " 1,\n",
              " 1,\n",
              " 1,\n",
              " 1,\n",
              " 1,\n",
              " 1,\n",
              " 1,\n",
              " 1,\n",
              " 1,\n",
              " 1,\n",
              " 1,\n",
              " 1,\n",
              " 1,\n",
              " 1,\n",
              " 1,\n",
              " 1,\n",
              " 1,\n",
              " 1,\n",
              " 1,\n",
              " 1,\n",
              " 1,\n",
              " 1,\n",
              " 0,\n",
              " 0,\n",
              " 0,\n",
              " 0,\n",
              " 0,\n",
              " 0,\n",
              " 0,\n",
              " 0,\n",
              " 0,\n",
              " 0,\n",
              " 0,\n",
              " 0,\n",
              " 0,\n",
              " 0]"
            ]
          },
          "metadata": {},
          "execution_count": 38
        }
      ]
    },
    {
      "cell_type": "code",
      "metadata": {
        "colab": {
          "base_uri": "https://localhost:8080/"
        },
        "id": "VRCZ_oZvRNXh",
        "outputId": "ec230561-f7b5-4969-e2ea-546641045dbd"
      },
      "source": [
        "fish_data"
      ],
      "execution_count": null,
      "outputs": [
        {
          "output_type": "execute_result",
          "data": {
            "text/plain": [
              "[[23.2, 242],\n",
              " [24, 290],\n",
              " [23.9, 340],\n",
              " [26.3, 363],\n",
              " [26.5, 430],\n",
              " [26.8, 450],\n",
              " [26.8, 500],\n",
              " [27.6, 390],\n",
              " [27.6, 450],\n",
              " [28.5, 500],\n",
              " [28.4, 475],\n",
              " [28.7, 500],\n",
              " [29.1, 500],\n",
              " [29.5, 340],\n",
              " [29.4, 600],\n",
              " [29.4, 600],\n",
              " [30.4, 700],\n",
              " [30.4, 700],\n",
              " [30.9, 610],\n",
              " [31, 650],\n",
              " [31.3, 575],\n",
              " [31.4, 685],\n",
              " [31.5, 620],\n",
              " [31.8, 680],\n",
              " [31.9, 700],\n",
              " [31.8, 725],\n",
              " [32, 720],\n",
              " [32.7, 714],\n",
              " [32.8, 850],\n",
              " [33.5, 1000],\n",
              " [35, 920],\n",
              " [35, 955],\n",
              " [36.2, 925],\n",
              " [37.4, 975],\n",
              " [38, 950],\n",
              " [9.3, 6.7],\n",
              " [10, 7.5],\n",
              " [10.1, 7.0],\n",
              " [10.4, 9.7],\n",
              " [10.7, 9.8],\n",
              " [10.8, 8.7],\n",
              " [11.3, 10],\n",
              " [11.3, 9.9],\n",
              " [11.4, 9.8],\n",
              " [11.5, 12.2],\n",
              " [11.7, 13.4],\n",
              " [12.1, 12.2],\n",
              " [13.2, 19.7],\n",
              " [13.8, 19.9]]"
            ]
          },
          "metadata": {},
          "execution_count": 39
        }
      ]
    },
    {
      "cell_type": "code",
      "metadata": {
        "colab": {
          "base_uri": "https://localhost:8080/"
        },
        "id": "qitVKSwZRQbT",
        "outputId": "4edd22db-2494-492b-b17b-d88e4f0c99ca"
      },
      "source": [
        "fish_target"
      ],
      "execution_count": null,
      "outputs": [
        {
          "output_type": "execute_result",
          "data": {
            "text/plain": [
              "[1,\n",
              " 1,\n",
              " 1,\n",
              " 1,\n",
              " 1,\n",
              " 1,\n",
              " 1,\n",
              " 1,\n",
              " 1,\n",
              " 1,\n",
              " 1,\n",
              " 1,\n",
              " 1,\n",
              " 1,\n",
              " 1,\n",
              " 1,\n",
              " 1,\n",
              " 1,\n",
              " 1,\n",
              " 1,\n",
              " 1,\n",
              " 1,\n",
              " 1,\n",
              " 1,\n",
              " 1,\n",
              " 1,\n",
              " 1,\n",
              " 1,\n",
              " 1,\n",
              " 1,\n",
              " 1,\n",
              " 1,\n",
              " 1,\n",
              " 1,\n",
              " 1,\n",
              " 0,\n",
              " 0,\n",
              " 0,\n",
              " 0,\n",
              " 0,\n",
              " 0,\n",
              " 0,\n",
              " 0,\n",
              " 0,\n",
              " 0,\n",
              " 0,\n",
              " 0,\n",
              " 0,\n",
              " 0]"
            ]
          },
          "metadata": {},
          "execution_count": 40
        }
      ]
    },
    {
      "cell_type": "code",
      "metadata": {
        "id": "xtiQlgLXPZYS"
      },
      "source": [
        "from sklearn.neighbors import KNeighborsClassifier"
      ],
      "execution_count": null,
      "outputs": []
    },
    {
      "cell_type": "code",
      "metadata": {
        "id": "_CepfzzDPo_o"
      },
      "source": [
        "kn=KNeighborsClassifier()"
      ],
      "execution_count": null,
      "outputs": []
    },
    {
      "cell_type": "code",
      "metadata": {
        "id": "rkzigOBaP2FY",
        "colab": {
          "base_uri": "https://localhost:8080/",
          "height": 74
        },
        "outputId": "ee2aacc6-217f-4637-cbac-9e0537fe9dde"
      },
      "source": [
        "kn.fit(fish_data, fish_target)"
      ],
      "execution_count": null,
      "outputs": [
        {
          "output_type": "execute_result",
          "data": {
            "text/plain": [
              "KNeighborsClassifier()"
            ],
            "text/html": [
              "<style>#sk-container-id-3 {color: black;background-color: white;}#sk-container-id-3 pre{padding: 0;}#sk-container-id-3 div.sk-toggleable {background-color: white;}#sk-container-id-3 label.sk-toggleable__label {cursor: pointer;display: block;width: 100%;margin-bottom: 0;padding: 0.3em;box-sizing: border-box;text-align: center;}#sk-container-id-3 label.sk-toggleable__label-arrow:before {content: \"▸\";float: left;margin-right: 0.25em;color: #696969;}#sk-container-id-3 label.sk-toggleable__label-arrow:hover:before {color: black;}#sk-container-id-3 div.sk-estimator:hover label.sk-toggleable__label-arrow:before {color: black;}#sk-container-id-3 div.sk-toggleable__content {max-height: 0;max-width: 0;overflow: hidden;text-align: left;background-color: #f0f8ff;}#sk-container-id-3 div.sk-toggleable__content pre {margin: 0.2em;color: black;border-radius: 0.25em;background-color: #f0f8ff;}#sk-container-id-3 input.sk-toggleable__control:checked~div.sk-toggleable__content {max-height: 200px;max-width: 100%;overflow: auto;}#sk-container-id-3 input.sk-toggleable__control:checked~label.sk-toggleable__label-arrow:before {content: \"▾\";}#sk-container-id-3 div.sk-estimator input.sk-toggleable__control:checked~label.sk-toggleable__label {background-color: #d4ebff;}#sk-container-id-3 div.sk-label input.sk-toggleable__control:checked~label.sk-toggleable__label {background-color: #d4ebff;}#sk-container-id-3 input.sk-hidden--visually {border: 0;clip: rect(1px 1px 1px 1px);clip: rect(1px, 1px, 1px, 1px);height: 1px;margin: -1px;overflow: hidden;padding: 0;position: absolute;width: 1px;}#sk-container-id-3 div.sk-estimator {font-family: monospace;background-color: #f0f8ff;border: 1px dotted black;border-radius: 0.25em;box-sizing: border-box;margin-bottom: 0.5em;}#sk-container-id-3 div.sk-estimator:hover {background-color: #d4ebff;}#sk-container-id-3 div.sk-parallel-item::after {content: \"\";width: 100%;border-bottom: 1px solid gray;flex-grow: 1;}#sk-container-id-3 div.sk-label:hover label.sk-toggleable__label {background-color: #d4ebff;}#sk-container-id-3 div.sk-serial::before {content: \"\";position: absolute;border-left: 1px solid gray;box-sizing: border-box;top: 0;bottom: 0;left: 50%;z-index: 0;}#sk-container-id-3 div.sk-serial {display: flex;flex-direction: column;align-items: center;background-color: white;padding-right: 0.2em;padding-left: 0.2em;position: relative;}#sk-container-id-3 div.sk-item {position: relative;z-index: 1;}#sk-container-id-3 div.sk-parallel {display: flex;align-items: stretch;justify-content: center;background-color: white;position: relative;}#sk-container-id-3 div.sk-item::before, #sk-container-id-3 div.sk-parallel-item::before {content: \"\";position: absolute;border-left: 1px solid gray;box-sizing: border-box;top: 0;bottom: 0;left: 50%;z-index: -1;}#sk-container-id-3 div.sk-parallel-item {display: flex;flex-direction: column;z-index: 1;position: relative;background-color: white;}#sk-container-id-3 div.sk-parallel-item:first-child::after {align-self: flex-end;width: 50%;}#sk-container-id-3 div.sk-parallel-item:last-child::after {align-self: flex-start;width: 50%;}#sk-container-id-3 div.sk-parallel-item:only-child::after {width: 0;}#sk-container-id-3 div.sk-dashed-wrapped {border: 1px dashed gray;margin: 0 0.4em 0.5em 0.4em;box-sizing: border-box;padding-bottom: 0.4em;background-color: white;}#sk-container-id-3 div.sk-label label {font-family: monospace;font-weight: bold;display: inline-block;line-height: 1.2em;}#sk-container-id-3 div.sk-label-container {text-align: center;}#sk-container-id-3 div.sk-container {/* jupyter's `normalize.less` sets `[hidden] { display: none; }` but bootstrap.min.css set `[hidden] { display: none !important; }` so we also need the `!important` here to be able to override the default hidden behavior on the sphinx rendered scikit-learn.org. See: https://github.com/scikit-learn/scikit-learn/issues/21755 */display: inline-block !important;position: relative;}#sk-container-id-3 div.sk-text-repr-fallback {display: none;}</style><div id=\"sk-container-id-3\" class=\"sk-top-container\"><div class=\"sk-text-repr-fallback\"><pre>KNeighborsClassifier()</pre><b>In a Jupyter environment, please rerun this cell to show the HTML representation or trust the notebook. <br />On GitHub, the HTML representation is unable to render, please try loading this page with nbviewer.org.</b></div><div class=\"sk-container\" hidden><div class=\"sk-item\"><div class=\"sk-estimator sk-toggleable\"><input class=\"sk-toggleable__control sk-hidden--visually\" id=\"sk-estimator-id-3\" type=\"checkbox\" checked><label for=\"sk-estimator-id-3\" class=\"sk-toggleable__label sk-toggleable__label-arrow\">KNeighborsClassifier</label><div class=\"sk-toggleable__content\"><pre>KNeighborsClassifier()</pre></div></div></div></div></div>"
            ]
          },
          "metadata": {},
          "execution_count": 45
        }
      ]
    },
    {
      "cell_type": "code",
      "metadata": {
        "colab": {
          "base_uri": "https://localhost:8080/"
        },
        "id": "uFlvgwwjP8JH",
        "outputId": "cecd0fe4-a43f-468f-bcd6-51389bad3950"
      },
      "source": [
        "kn.score(fish_data,fish_target)"
      ],
      "execution_count": null,
      "outputs": [
        {
          "output_type": "execute_result",
          "data": {
            "text/plain": [
              "1.0"
            ]
          },
          "metadata": {},
          "execution_count": 48
        }
      ]
    },
    {
      "cell_type": "code",
      "metadata": {
        "id": "GM3Ur86-KiWw"
      },
      "source": [
        "# 길이가 30 무게가 600인 생선은 무엇일까요?\n",
        "# 길이가 100 무게가 880인 생선은 무엇일까요?  코드로 만들어 보기 "
      ],
      "execution_count": null,
      "outputs": []
    },
    {
      "cell_type": "code",
      "metadata": {
        "id": "lkgz832LLN1u",
        "colab": {
          "base_uri": "https://localhost:8080/"
        },
        "outputId": "c45d3597-06d8-4d4a-af4c-1a94b7832946"
      },
      "source": [
        "kn.predict([[50,150]])"
      ],
      "execution_count": null,
      "outputs": [
        {
          "output_type": "execute_result",
          "data": {
            "text/plain": [
              "array([0])"
            ]
          },
          "metadata": {},
          "execution_count": 54
        }
      ]
    },
    {
      "cell_type": "code",
      "metadata": {
        "colab": {
          "base_uri": "https://localhost:8080/"
        },
        "id": "uPV7fSNYSImo",
        "outputId": "fa26a94b-c17b-4658-a5f5-59692528c615"
      },
      "source": [
        "kn.predict([[55,200]])"
      ],
      "execution_count": null,
      "outputs": [
        {
          "output_type": "execute_result",
          "data": {
            "text/plain": [
              "array([1])"
            ]
          },
          "metadata": {},
          "execution_count": 55
        }
      ]
    },
    {
      "cell_type": "markdown",
      "source": [
        "길이가 15이고 무게가 130인 물고기의 품종은?\n",
        "길어가 20이고 무게가 250인 물고기의 품종은?"
      ],
      "metadata": {
        "id": "DXMNcjFb1iEk"
      }
    },
    {
      "cell_type": "code",
      "metadata": {
        "colab": {
          "base_uri": "https://localhost:8080/"
        },
        "id": "RWAdLYOjLUEe",
        "outputId": "3b532591-99cf-4702-e43c-8d94c5bda8ee"
      },
      "source": [
        "kn.predict([[25,200]])\n",
        "#200, 1200 <-  코드실습 (46분)"
      ],
      "execution_count": null,
      "outputs": [
        {
          "output_type": "execute_result",
          "data": {
            "text/plain": [
              "array([1])"
            ]
          },
          "metadata": {},
          "execution_count": 56
        }
      ]
    },
    {
      "cell_type": "code",
      "metadata": {
        "colab": {
          "base_uri": "https://localhost:8080/",
          "height": 467
        },
        "id": "rHDkvt6kSIS4",
        "outputId": "6503138f-8ba9-46aa-8d4e-1971f8470937"
      },
      "source": [
        "plt.scatter(bream_length, bream_weight)\n",
        "plt.scatter(smelt_length, smelt_weight)\n",
        "plt.scatter(25, 200, marker='^')\n",
        "plt.xlabel('length')\n",
        "plt.ylabel('weight')\n",
        "plt.show"
      ],
      "execution_count": null,
      "outputs": [
        {
          "output_type": "execute_result",
          "data": {
            "text/plain": [
              "<function matplotlib.pyplot.show(close=None, block=None)>"
            ]
          },
          "metadata": {},
          "execution_count": 57
        },
        {
          "output_type": "display_data",
          "data": {
            "text/plain": [
              "<Figure size 640x480 with 1 Axes>"
            ],
            "image/png": "[encoded data removed]"
          },
          "metadata": {}
        }
      ]
    },
    {
      "cell_type": "markdown",
      "metadata": {
        "id": "ldr14Tm7PZJU"
      },
      "source": []
    },
    {
      "cell_type": "code",
      "source": [],
      "metadata": {
        "id": "eHdAdI-G0jHI"
      },
      "execution_count": null,
      "outputs": []
    },
    {
      "cell_type": "markdown",
      "source": [
        "3"
      ],
      "metadata": {
        "id": "Cj9DU7nAy3RZ"
      }
    }
  ]
}